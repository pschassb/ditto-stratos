{
 "cells": [
  {
   "cell_type": "markdown",
   "metadata": {},
   "source": [
    "# Demo2+ OpenDSS to CYME with post-processing example"
   ]
  },
  {
   "cell_type": "code",
   "execution_count": 1,
   "metadata": {},
   "outputs": [
    {
     "name": "stdout",
     "output_type": "stream",
     "text": [
      "Populating the interactive namespace from numpy and matplotlib\n"
     ]
    }
   ],
   "source": [
    "%pylab inline"
   ]
  },
  {
   "cell_type": "code",
   "execution_count": 2,
   "metadata": {
    "collapsed": true
   },
   "outputs": [],
   "source": [
    "import pandas as pd\n",
    "import matplotlib.pyplot as plt\n",
    "import networkx as nx"
   ]
  },
  {
   "cell_type": "code",
   "execution_count": 3,
   "metadata": {
    "collapsed": true
   },
   "outputs": [],
   "source": [
    "#Set the feeder\n",
    "_feeder='demo_2_plus_latest'"
   ]
  },
  {
   "cell_type": "markdown",
   "metadata": {},
   "source": [
    "## Read the OpenDSS model into DiTTo"
   ]
  },
  {
   "cell_type": "markdown",
   "metadata": {},
   "source": [
    "The OpenDSS model for Demo2+ is red exactly as before."
   ]
  },
  {
   "cell_type": "code",
   "execution_count": 4,
   "metadata": {},
   "outputs": [
    {
     "name": "stderr",
     "output_type": "stream",
     "text": [
      "/Users/ngensoll/anaconda2/lib/python2.7/site-packages/fuzzywuzzy-0.15.1-py2.7.egg/fuzzywuzzy/fuzz.py:35: UserWarning: Using slow pure-python SequenceMatcher. Install python-Levenshtein to remove this warning\n"
     ]
    },
    {
     "name": "stdout",
     "output_type": "stream",
     "text": [
      "'build_opendssdirect' ((<ditto.readers.opendss.read.reader instance at 0x1514c04c68>, '../inputs/opendss/demo_2_plus_latest/master.dss'), {}) 7.32 sec\n",
      "Build OpenDSSdirect= 7.3166410923\n",
      "'parse_power_source' ((<ditto.readers.opendss.read.reader instance at 0x1514c04c68>, <ditto.store.Store(elements=0, models=1) object at 0x1514337a10>), {}) 0.01 sec\n"
     ]
    },
    {
     "name": "stderr",
     "output_type": "stream",
     "text": [
      "/Users/ngensoll/GitRepos/OpenDSSDirect.py/opendssdirect/utils.py:98: UserWarning: Pandas cannot be installed. Please see documentation for how to install extra dependencies.\n",
      "  \"Pandas cannot be installed. Please see documentation for how to install extra dependencies.\"\n"
     ]
    },
    {
     "name": "stdout",
     "output_type": "stream",
     "text": [
      "'parse_nodes' ((<ditto.readers.opendss.read.reader instance at 0x1514c04c68>, <ditto.store.Store(elements=0, models=203815) object at 0x1514337a10>), {}) 355.18 sec\n",
      "Line class to dataframe= 73.6883239746\n",
      "rest= 2295.34738493\n"
     ]
    },
    {
     "name": "stderr",
     "output_type": "stream",
     "text": [
      "No handlers could be found for logger \"opendssdirect.core\"\n"
     ]
    },
    {
     "name": "stdout",
     "output_type": "stream",
     "text": [
      "substation found\n",
      "substation found\n",
      "substation found\n",
      "substation found\n",
      "substation found\n",
      "substation found\n",
      "substation found\n",
      "substation found\n",
      "substation found\n",
      "substation found\n",
      "'parse_transformers' ((<ditto.readers.opendss.read.reader instance at 0x1514c04c68>, <ditto.store.Store(elements=0, models=647726) object at 0x1514337a10>), {}) 114.65 sec\n",
      "'parse_loads' ((<ditto.readers.opendss.read.reader instance at 0x1514c04c68>, <ditto.store.Store(elements=0, models=763825) object at 0x1514337a10>), {}) 347.86 sec\n",
      "'parse_regulators' ((<ditto.readers.opendss.read.reader instance at 0x1514c04c68>, <ditto.store.Store(elements=0, models=763825) object at 0x1514337a10>), {}) 11.60 sec\n",
      "'parse_capacitors' ((<ditto.readers.opendss.read.reader instance at 0x1514c04c68>, <ditto.store.Store(elements=0, models=764057) object at 0x1514337a10>), {}) 0.51 sec\n"
     ]
    },
    {
     "data": {
      "text/plain": [
       "1"
      ]
     },
     "execution_count": 4,
     "metadata": {},
     "output_type": "execute_result"
    }
   ],
   "source": [
    "#Build the DiTTo model first...\n",
    "from ditto.store import Store\n",
    "from ditto.readers.opendss.read import reader\n",
    "\n",
    "m=Store()\n",
    "\n",
    "inputs={'master_file':'../inputs/opendss/{feeder}/master.dss'.format(feeder=_feeder),\n",
    "        'buscoordinates_file': '../inputs/opendss/{feeder}/buscoords.dss'.format(feeder=_feeder)}\n",
    "\n",
    "#Instanciate the reader\n",
    "opendss_reader=reader(**inputs)\n",
    "\n",
    "#Parse...\n",
    "opendss_reader.parse(m)"
   ]
  },
  {
   "cell_type": "markdown",
   "metadata": {},
   "source": [
    "## Modify the DiTTo model"
   ]
  },
  {
   "cell_type": "markdown",
   "metadata": {},
   "source": [
    "Here begins the interesting stuffs. \n",
    "Load the system_structure_modifier module which will handle the modifications to the DiTTo model we just built."
   ]
  },
  {
   "cell_type": "code",
   "execution_count": 5,
   "metadata": {},
   "outputs": [],
   "source": [
    "from ditto.modify.system_structure import system_structure_modifier"
   ]
  },
  {
   "cell_type": "markdown",
   "metadata": {},
   "source": [
    "Instanciate it with the model and the name of the source node ('st_mat' for Demo2+)."
   ]
  },
  {
   "cell_type": "code",
   "execution_count": 6,
   "metadata": {},
   "outputs": [],
   "source": [
    "modifier=system_structure_modifier(m,'st_mat')"
   ]
  },
  {
   "cell_type": "markdown",
   "metadata": {},
   "source": [
    "### Center-tap load processing"
   ]
  },
  {
   "cell_type": "markdown",
   "metadata": {},
   "source": [
    "First, we make sure that everything downstream of center-tap transformers have coherant phases. (Because of the way these are modelled in OpenDSS, we have everything as AB...).\n",
    "\n",
    "This is done by callling the center_tap_load_preprocessing method:"
   ]
  },
  {
   "cell_type": "code",
   "execution_count": 9,
   "metadata": {},
   "outputs": [],
   "source": [
    "modifier.center_tap_load_preprocessing()"
   ]
  },
  {
   "cell_type": "markdown",
   "metadata": {},
   "source": [
    "### Feeder mapping"
   ]
  },
  {
   "cell_type": "markdown",
   "metadata": {},
   "source": [
    "Then, we wish to have a clean network structure with feeders and sub-transmission networks which is not included in the OpenDSS model.\n",
    "\n",
    "This can be done by calling the feeder_preprocessing method:"
   ]
  },
  {
   "cell_type": "code",
   "execution_count": 7,
   "metadata": {},
   "outputs": [
    {
     "name": "stdout",
     "output_type": "stream",
     "text": [
      "Info: substation ctrafo(cramaee():d2_nssee5_12.47->d2_nssee5_69)d2d3 found downstream of substation ctrafo(cramaee():d2_nst1_69->st_mat)\n",
      "Info: substation ctrafo(cramaee():d2_nssee3_12.47->d2_nssee3_69)d2d3 found downstream of substation ctrafo(cramaee():d2_nst0_69->st_mat)\n"
     ]
    }
   ],
   "source": [
    "modifier.feeder_preprocessing()"
   ]
  },
  {
   "cell_type": "markdown",
   "metadata": {},
   "source": [
    "The test_feeder_cut method gives some statistic about the feeder created. If some elements are in multiple feeders, the intersections will also be printed (nothing is printed here because feeders are disjoint)."
   ]
  },
  {
   "cell_type": "code",
   "execution_count": 8,
   "metadata": {},
   "outputs": [
    {
     "name": "stdout",
     "output_type": "stream",
     "text": [
      "Number of feeders defined = 8\n",
      "Sizes of the feeders = [37528, 38227, 29279, 15999, 10194, 59112, 2958, 49050]\n"
     ]
    }
   ],
   "source": [
    "modifier.test_feeder_cut()"
   ]
  },
  {
   "cell_type": "markdown",
   "metadata": {},
   "source": [
    "## Write the modified model to CYME"
   ]
  },
  {
   "cell_type": "markdown",
   "metadata": {},
   "source": [
    "Finally, write the modified model to CYME in the same way as before:"
   ]
  },
  {
   "cell_type": "code",
   "execution_count": 10,
   "metadata": {
    "collapsed": true
   },
   "outputs": [],
   "source": [
    "from ditto.writers.cyme.write import writer"
   ]
  },
  {
   "cell_type": "code",
   "execution_count": 11,
   "metadata": {
    "collapsed": true
   },
   "outputs": [],
   "source": [
    "cyme_writer=writer(output_path='./',log_path='./log_tt.log')"
   ]
  },
  {
   "cell_type": "code",
   "execution_count": 12,
   "metadata": {},
   "outputs": [],
   "source": [
    "cyme_writer.write(modifier.model)"
   ]
  },
  {
   "cell_type": "code",
   "execution_count": null,
   "metadata": {
    "collapsed": true
   },
   "outputs": [],
   "source": []
  }
 ],
 "metadata": {
  "kernelspec": {
   "display_name": "Python 3",
   "language": "python",
   "name": "python3"
  },
  "language_info": {
   "codemirror_mode": {
    "name": "ipython",
    "version": 3
   },
   "file_extension": ".py",
   "mimetype": "text/x-python",
   "name": "python",
   "nbconvert_exporter": "python",
   "pygments_lexer": "ipython3",
   "version": "3.6.4"
  }
 },
 "nbformat": 4,
 "nbformat_minor": 2
}
